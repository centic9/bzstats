{
 "cells": [
  {
   "cell_type": "markdown",
   "metadata": {},
   "source": [
    "links\n",
    "http://pbpython.com/simple-graphing-pandas.html\n"
   ]
  },
  {
   "cell_type": "code",
   "execution_count": 3,
   "metadata": {
    "collapsed": true
   },
   "outputs": [],
   "source": [
    "import csv\n",
    "import datetime as dt"
   ]
  },
  {
   "cell_type": "code",
   "execution_count": 4,
   "metadata": {
    "collapsed": false
   },
   "outputs": [],
   "source": [
    "import matplotlib.pyplot as plt\n",
    "%matplotlib inline"
   ]
  },
  {
   "cell_type": "code",
   "execution_count": 5,
   "metadata": {
    "collapsed": false
   },
   "outputs": [],
   "source": [
    "x,y = [],[]\n",
    "csv_reader = csv.reader(open('stats.csv'))\n",
    "\n",
    "# skip header\n",
    "next(csv_reader)\n",
    "\n",
    "for line in csv_reader:\n",
    "    x.append(int(line[3]))\n",
    "    y.append(dt.datetime.strptime(line[0],'%Y-%m-%d %H:%M'))"
   ]
  },
  {
   "cell_type": "code",
   "execution_count": 6,
   "metadata": {
    "collapsed": false
   },
   "outputs": [
    {
     "data": {
      "image/png": "[encoded data removed]",
      "text/plain": [
       "<matplotlib.figure.Figure at 0xfdf2eaec>"
      ]
     },
     "metadata": {},
     "output_type": "display_data"
    }
   ],
   "source": [
    "fig = plt.figure()\n",
    "ax = fig.add_subplot(111)\n",
    "ax.plot(y,x,'o-')\n",
    "fig.autofmt_xdate()\n",
    "\n",
    "plt.show()"
   ]
  },
  {
   "cell_type": "code",
   "execution_count": 7,
   "metadata": {
    "collapsed": false
   },
   "outputs": [
    {
     "ename": "ImportError",
     "evalue": "No module named pandas",
     "output_type": "error",
     "traceback": [
      "\u001b[1;31m---------------------------------------------------------------------------\u001b[0m",
      "\u001b[1;31mImportError\u001b[0m                               Traceback (most recent call last)",
      "\u001b[1;32m<ipython-input-7-770f4aef7b6d>\u001b[0m in \u001b[0;36m<module>\u001b[1;34m()\u001b[0m\n\u001b[1;32m----> 1\u001b[1;33m \u001b[1;32mimport\u001b[0m \u001b[0mpandas\u001b[0m \u001b[1;32mas\u001b[0m \u001b[0mpd\u001b[0m\u001b[1;33m\u001b[0m\u001b[0m\n\u001b[0m\u001b[0;32m      2\u001b[0m \u001b[1;32mimport\u001b[0m \u001b[0mnumpy\u001b[0m \u001b[1;32mas\u001b[0m \u001b[0mnp\u001b[0m\u001b[1;33m\u001b[0m\u001b[0m\n\u001b[0;32m      3\u001b[0m \u001b[1;32mimport\u001b[0m \u001b[0mmatplotlib\u001b[0m\u001b[1;33m.\u001b[0m\u001b[0mpyplot\u001b[0m \u001b[1;32mas\u001b[0m \u001b[0mplt\u001b[0m\u001b[1;33m\u001b[0m\u001b[0m\n\u001b[0;32m      4\u001b[0m \u001b[0mpd\u001b[0m\u001b[1;33m.\u001b[0m\u001b[0m__version__\u001b[0m\u001b[1;33m\u001b[0m\u001b[0m\n",
      "\u001b[1;31mImportError\u001b[0m: No module named pandas"
     ]
    }
   ],
   "source": [
    "import pandas as pd\n",
    "import numpy as np\n",
    "import matplotlib.pyplot as plt\n",
    "pd.__version__"
   ]
  },
  {
   "cell_type": "code",
   "execution_count": 1,
   "metadata": {
    "collapsed": false
   },
   "outputs": [
    {
     "ename": "NameError",
     "evalue": "name 'pd' is not defined",
     "output_type": "error",
     "traceback": [
      "\u001b[1;31m---------------------------------------------------------------------------\u001b[0m",
      "\u001b[1;31mNameError\u001b[0m                                 Traceback (most recent call last)",
      "\u001b[1;32m<ipython-input-1-58c538dfccef>\u001b[0m in \u001b[0;36m<module>\u001b[1;34m()\u001b[0m\n\u001b[1;32m----> 1\u001b[1;33m \u001b[0mbugs\u001b[0m\u001b[1;33m=\u001b[0m\u001b[0mpd\u001b[0m\u001b[1;33m.\u001b[0m\u001b[0mread_csv\u001b[0m\u001b[1;33m(\u001b[0m\u001b[1;34m\"stats.csv\"\u001b[0m\u001b[1;33m,\u001b[0m\u001b[0mparse_dates\u001b[0m\u001b[1;33m=\u001b[0m\u001b[1;33m[\u001b[0m\u001b[1;34m'Date'\u001b[0m\u001b[1;33m]\u001b[0m\u001b[1;33m)\u001b[0m\u001b[1;33m\u001b[0m\u001b[0m\n\u001b[0m\u001b[0;32m      2\u001b[0m \u001b[0mbugs\u001b[0m\u001b[1;33m.\u001b[0m\u001b[0mhead\u001b[0m\u001b[1;33m(\u001b[0m\u001b[1;33m)\u001b[0m\u001b[1;33m\u001b[0m\u001b[0m\n",
      "\u001b[1;31mNameError\u001b[0m: name 'pd' is not defined"
     ]
    }
   ],
   "source": [
    "bugs=pd.read_csv(\"stats.csv\",parse_dates=['Date'])\n",
    "bugs.head()"
   ]
  },
  {
   "cell_type": "code",
   "execution_count": 20,
   "metadata": {
    "collapsed": false
   },
   "outputs": [
    {
     "data": {
      "text/html": [
       "<div style=\"max-height:1000px;max-width:1500px;overflow:auto;\">\n",
       "<table border=\"1\" class=\"dataframe\">\n",
       "  <thead>\n",
       "    <tr style=\"text-align: right;\">\n",
       "      <th></th>\n",
       "      <th>Timestamp</th>\n",
       "      <th>Bugs overall</th>\n",
       "      <th>Open overall</th>\n",
       "      <th>Enhancements</th>\n",
       "      <th>Actual bugs</th>\n",
       "      <th>Needinfo</th>\n",
       "      <th>Workable bugs</th>\n",
       "      <th>Bugs with patch</th>\n",
       "      <th>Opened last week</th>\n",
       "      <th>Changed last week</th>\n",
       "      <th>Closed last week</th>\n",
       "    </tr>\n",
       "  </thead>\n",
       "  <tbody>\n",
       "    <tr>\n",
       "      <th>count</th>\n",
       "      <td> 2.000000e+01</td>\n",
       "      <td>   20.000000</td>\n",
       "      <td>  20.000000</td>\n",
       "      <td>  20.0000</td>\n",
       "      <td>  20.000000</td>\n",
       "      <td>  20.000000</td>\n",
       "      <td>  20.000000</td>\n",
       "      <td> 20.00000</td>\n",
       "      <td> 20.000000</td>\n",
       "      <td> 20.000000</td>\n",
       "      <td> 20.000000</td>\n",
       "    </tr>\n",
       "    <tr>\n",
       "      <th>mean</th>\n",
       "      <td> 5.056932e+11</td>\n",
       "      <td> 3454.150000</td>\n",
       "      <td> 520.950000</td>\n",
       "      <td> 126.6000</td>\n",
       "      <td> 394.350000</td>\n",
       "      <td> 124.650000</td>\n",
       "      <td> 269.700000</td>\n",
       "      <td> 30.45000</td>\n",
       "      <td>  6.700000</td>\n",
       "      <td> 26.200000</td>\n",
       "      <td>  9.800000</td>\n",
       "    </tr>\n",
       "    <tr>\n",
       "      <th>std</th>\n",
       "      <td> 7.070469e+11</td>\n",
       "      <td>   41.578429</td>\n",
       "      <td>  13.048392</td>\n",
       "      <td>  85.3429</td>\n",
       "      <td>  77.235303</td>\n",
       "      <td>   9.874342</td>\n",
       "      <td>  83.639011</td>\n",
       "      <td> 23.15048</td>\n",
       "      <td>  3.657724</td>\n",
       "      <td> 16.362988</td>\n",
       "      <td>  6.755894</td>\n",
       "    </tr>\n",
       "    <tr>\n",
       "      <th>min</th>\n",
       "      <td> 0.000000e+00</td>\n",
       "      <td> 3362.000000</td>\n",
       "      <td> 498.000000</td>\n",
       "      <td>  63.0000</td>\n",
       "      <td> 250.000000</td>\n",
       "      <td> 115.000000</td>\n",
       "      <td> 120.000000</td>\n",
       "      <td>  8.00000</td>\n",
       "      <td>  0.000000</td>\n",
       "      <td>  0.000000</td>\n",
       "      <td>  0.000000</td>\n",
       "    </tr>\n",
       "    <tr>\n",
       "      <th>25%</th>\n",
       "      <td> 0.000000e+00</td>\n",
       "      <td> 3431.000000</td>\n",
       "      <td> 512.750000</td>\n",
       "      <td>  77.2500</td>\n",
       "      <td> 380.250000</td>\n",
       "      <td> 116.000000</td>\n",
       "      <td> 250.000000</td>\n",
       "      <td> 18.00000</td>\n",
       "      <td>  5.000000</td>\n",
       "      <td> 18.500000</td>\n",
       "      <td>  5.000000</td>\n",
       "    </tr>\n",
       "    <tr>\n",
       "      <th>50%</th>\n",
       "      <td> 0.000000e+00</td>\n",
       "      <td> 3466.000000</td>\n",
       "      <td> 518.500000</td>\n",
       "      <td>  83.0000</td>\n",
       "      <td> 429.500000</td>\n",
       "      <td> 124.000000</td>\n",
       "      <td> 313.500000</td>\n",
       "      <td> 19.50000</td>\n",
       "      <td>  6.000000</td>\n",
       "      <td> 25.000000</td>\n",
       "      <td>  9.000000</td>\n",
       "    </tr>\n",
       "    <tr>\n",
       "      <th>75%</th>\n",
       "      <td> 1.443570e+12</td>\n",
       "      <td> 3482.500000</td>\n",
       "      <td> 529.500000</td>\n",
       "      <td> 131.2500</td>\n",
       "      <td> 436.500000</td>\n",
       "      <td> 130.250000</td>\n",
       "      <td> 318.500000</td>\n",
       "      <td> 31.75000</td>\n",
       "      <td>  9.250000</td>\n",
       "      <td> 28.000000</td>\n",
       "      <td> 12.750000</td>\n",
       "    </tr>\n",
       "    <tr>\n",
       "      <th>max</th>\n",
       "      <td> 1.446241e+12</td>\n",
       "      <td> 3503.000000</td>\n",
       "      <td> 552.000000</td>\n",
       "      <td> 286.0000</td>\n",
       "      <td> 472.000000</td>\n",
       "      <td> 155.000000</td>\n",
       "      <td> 341.000000</td>\n",
       "      <td> 71.00000</td>\n",
       "      <td> 13.000000</td>\n",
       "      <td> 62.000000</td>\n",
       "      <td> 23.000000</td>\n",
       "    </tr>\n",
       "  </tbody>\n",
       "</table>\n",
       "<p>8 rows × 11 columns</p>\n",
       "</div>"
      ],
      "text/plain": [
       "          Timestamp  Bugs overall  Open overall  Enhancements  Actual bugs  \\\n",
       "count  2.000000e+01     20.000000     20.000000       20.0000    20.000000   \n",
       "mean   5.056932e+11   3454.150000    520.950000      126.6000   394.350000   \n",
       "std    7.070469e+11     41.578429     13.048392       85.3429    77.235303   \n",
       "min    0.000000e+00   3362.000000    498.000000       63.0000   250.000000   \n",
       "25%    0.000000e+00   3431.000000    512.750000       77.2500   380.250000   \n",
       "50%    0.000000e+00   3466.000000    518.500000       83.0000   429.500000   \n",
       "75%    1.443570e+12   3482.500000    529.500000      131.2500   436.500000   \n",
       "max    1.446241e+12   3503.000000    552.000000      286.0000   472.000000   \n",
       "\n",
       "         Needinfo  Workable bugs  Bugs with patch  Opened last week  \\\n",
       "count   20.000000      20.000000         20.00000         20.000000   \n",
       "mean   124.650000     269.700000         30.45000          6.700000   \n",
       "std      9.874342      83.639011         23.15048          3.657724   \n",
       "min    115.000000     120.000000          8.00000          0.000000   \n",
       "25%    116.000000     250.000000         18.00000          5.000000   \n",
       "50%    124.000000     313.500000         19.50000          6.000000   \n",
       "75%    130.250000     318.500000         31.75000          9.250000   \n",
       "max    155.000000     341.000000         71.00000         13.000000   \n",
       "\n",
       "       Changed last week  Closed last week  \n",
       "count          20.000000         20.000000  \n",
       "mean           26.200000          9.800000  \n",
       "std            16.362988          6.755894  \n",
       "min             0.000000          0.000000  \n",
       "25%            18.500000          5.000000  \n",
       "50%            25.000000          9.000000  \n",
       "75%            28.000000         12.750000  \n",
       "max            62.000000         23.000000  \n",
       "\n",
       "[8 rows x 11 columns]"
      ]
     },
     "execution_count": 20,
     "metadata": {},
     "output_type": "execute_result"
    }
   ],
   "source": [
    "bugs.describe()"
   ]
  },
  {
   "cell_type": "code",
   "execution_count": 22,
   "metadata": {
    "collapsed": false
   },
   "outputs": [
    {
     "data": {
      "text/plain": [
       "Date                 datetime64[ns]\n",
       "Timestamp                     int64\n",
       "Bugs overall                  int64\n",
       "Open overall                  int64\n",
       "Enhancements                  int64\n",
       "Actual bugs                   int64\n",
       "Needinfo                      int64\n",
       "Workable bugs                 int64\n",
       "Bugs with patch               int64\n",
       "Opened last week              int64\n",
       "Changed last week             int64\n",
       "Closed last week              int64\n",
       "Distribution                 object\n",
       "dtype: object"
      ]
     },
     "execution_count": 22,
     "metadata": {},
     "output_type": "execute_result"
    }
   ],
   "source": [
    "bugs.dtypes"
   ]
  },
  {
   "cell_type": "code",
   "execution_count": 26,
   "metadata": {
    "collapsed": false
   },
   "outputs": [
    {
     "data": {
      "text/html": [
       "<div style=\"max-height:1000px;max-width:1500px;overflow:auto;\">\n",
       "<table border=\"1\" class=\"dataframe\">\n",
       "  <thead>\n",
       "    <tr style=\"text-align: right;\">\n",
       "      <th></th>\n",
       "      <th>Date</th>\n",
       "      <th>Open overall</th>\n",
       "      <th>Enhancements</th>\n",
       "      <th>Actual bugs</th>\n",
       "      <th>Needinfo</th>\n",
       "      <th>Workable bugs</th>\n",
       "      <th>Bugs with patch</th>\n",
       "    </tr>\n",
       "  </thead>\n",
       "  <tbody>\n",
       "    <tr>\n",
       "      <th>0</th>\n",
       "      <td>2015-05-31 23:44:00</td>\n",
       "      <td> 552</td>\n",
       "      <td> 258</td>\n",
       "      <td> 294</td>\n",
       "      <td> 155</td>\n",
       "      <td> 139</td>\n",
       "      <td> 67</td>\n",
       "    </tr>\n",
       "    <tr>\n",
       "      <th>1</th>\n",
       "      <td>2015-06-20 23:59:00</td>\n",
       "      <td> 537</td>\n",
       "      <td> 266</td>\n",
       "      <td> 271</td>\n",
       "      <td> 135</td>\n",
       "      <td> 136</td>\n",
       "      <td> 68</td>\n",
       "    </tr>\n",
       "    <tr>\n",
       "      <th>2</th>\n",
       "      <td>2015-07-08 21:49:00</td>\n",
       "      <td> 531</td>\n",
       "      <td> 268</td>\n",
       "      <td> 263</td>\n",
       "      <td> 132</td>\n",
       "      <td> 131</td>\n",
       "      <td> 70</td>\n",
       "    </tr>\n",
       "    <tr>\n",
       "      <th>3</th>\n",
       "      <td>2015-07-16 11:25:00</td>\n",
       "      <td> 529</td>\n",
       "      <td> 271</td>\n",
       "      <td> 258</td>\n",
       "      <td> 133</td>\n",
       "      <td> 125</td>\n",
       "      <td> 70</td>\n",
       "    </tr>\n",
       "    <tr>\n",
       "      <th>4</th>\n",
       "      <td>2015-08-09 23:56:00</td>\n",
       "      <td> 536</td>\n",
       "      <td> 286</td>\n",
       "      <td> 250</td>\n",
       "      <td> 130</td>\n",
       "      <td> 120</td>\n",
       "      <td> 71</td>\n",
       "    </tr>\n",
       "  </tbody>\n",
       "</table>\n",
       "<p>5 rows × 7 columns</p>\n",
       "</div>"
      ],
      "text/plain": [
       "                 Date  Open overall  Enhancements  Actual bugs  Needinfo  \\\n",
       "0 2015-05-31 23:44:00           552           258          294       155   \n",
       "1 2015-06-20 23:59:00           537           266          271       135   \n",
       "2 2015-07-08 21:49:00           531           268          263       132   \n",
       "3 2015-07-16 11:25:00           529           271          258       133   \n",
       "4 2015-08-09 23:56:00           536           286          250       130   \n",
       "\n",
       "   Workable bugs  Bugs with patch  \n",
       "0            139               67  \n",
       "1            136               68  \n",
       "2            131               70  \n",
       "3            125               70  \n",
       "4            120               71  \n",
       "\n",
       "[5 rows x 7 columns]"
      ]
     },
     "execution_count": 26,
     "metadata": {},
     "output_type": "execute_result"
    }
   ],
   "source": [
    "bugstat = bugs[['Date', 'Open overall', 'Enhancements','Actual bugs','Needinfo','Workable bugs','Bugs with patch']]\n",
    "bugstat.head()"
   ]
  },
  {
   "cell_type": "code",
   "execution_count": 8,
   "metadata": {
    "collapsed": false,
    "scrolled": true
   },
   "outputs": [
    {
     "ename": "NameError",
     "evalue": "name 'bugstat' is not defined",
     "output_type": "error",
     "traceback": [
      "\u001b[1;31m---------------------------------------------------------------------------\u001b[0m",
      "\u001b[1;31mNameError\u001b[0m                                 Traceback (most recent call last)",
      "\u001b[1;32m<ipython-input-8-7446f3e40788>\u001b[0m in \u001b[0;36m<module>\u001b[1;34m()\u001b[0m\n\u001b[1;32m----> 1\u001b[1;33m \u001b[0mmy_plot\u001b[0m \u001b[1;33m=\u001b[0m \u001b[0mbugstat\u001b[0m\u001b[1;33m.\u001b[0m\u001b[0mplot\u001b[0m\u001b[1;33m(\u001b[0m\u001b[0mkind\u001b[0m\u001b[1;33m=\u001b[0m\u001b[1;34m'line'\u001b[0m\u001b[1;33m,\u001b[0m\u001b[0mlegend\u001b[0m\u001b[1;33m=\u001b[0m\u001b[0mNone\u001b[0m\u001b[1;33m)\u001b[0m\u001b[1;33m\u001b[0m\u001b[0m\n\u001b[0m\u001b[0;32m      2\u001b[0m \u001b[0mmy_plot\u001b[0m\u001b[1;33m.\u001b[0m\u001b[0mset_xlabel\u001b[0m\u001b[1;33m(\u001b[0m\u001b[1;34m\"Count\"\u001b[0m\u001b[1;33m)\u001b[0m\u001b[1;33m\u001b[0m\u001b[0m\n\u001b[0;32m      3\u001b[0m \u001b[0mmy_plot\u001b[0m\u001b[1;33m.\u001b[0m\u001b[0mset_ylabel\u001b[0m\u001b[1;33m(\u001b[0m\u001b[1;34m\"Date\"\u001b[0m\u001b[1;33m)\u001b[0m\u001b[1;33m\u001b[0m\u001b[0m\n",
      "\u001b[1;31mNameError\u001b[0m: name 'bugstat' is not defined"
     ]
    }
   ],
   "source": [
    "my_plot = bugstat.plot(kind='line',legend=None)\n",
    "my_plot.set_xlabel(\"Count\")\n",
    "my_plot.set_ylabel(\"Date\")"
   ]
  },
  {
   "cell_type": "code",
   "execution_count": null,
   "metadata": {
    "collapsed": true
   },
   "outputs": [],
   "source": []
  }
 ],
 "metadata": {
  "kernelspec": {
   "display_name": "Python 2",
   "language": "python",
   "name": "python2"
  },
  "language_info": {
   "codemirror_mode": {
    "name": "ipython",
    "version": 2
   },
   "file_extension": ".py",
   "mimetype": "text/x-python",
   "name": "python",
   "nbconvert_exporter": "python",
   "pygments_lexer": "ipython2",
   "version": "2.7.10"
  }
 },
 "nbformat": 4,
 "nbformat_minor": 0
}
